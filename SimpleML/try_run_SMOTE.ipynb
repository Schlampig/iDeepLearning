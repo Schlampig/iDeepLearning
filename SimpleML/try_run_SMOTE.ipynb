{
 "cells": [
  {
   "cell_type": "code",
   "execution_count": 283,
   "metadata": {
    "collapsed": false
   },
   "outputs": [],
   "source": [
    "# Basic models\n",
    "import traceback\n",
    "import numpy as np\n",
    "import pandas as pd\n",
    "\n",
    "# Data operation models\n",
    "from sklearn.model_selection import StratifiedKFold\n",
    "from sklearn import cross_validation\n",
    "from sklearn.model_selection import ParameterGrid\n",
    "\n",
    "# Classifier models\n",
    "from sklearn.svm import SVC\n",
    "\n",
    "# Evaluation models\n",
    "import sklearn.metrics as sm"
   ]
  },
  {
   "cell_type": "code",
   "execution_count": 284,
   "metadata": {
    "collapsed": false
   },
   "outputs": [],
   "source": [
    "# Oversampling by SMOTE\n",
    "from sklearn.neighbors import NearestNeighbors as kNN\n",
    "def run_SMOTE(X, y, k, r):\n",
    "    \n",
    "    # obtain postive and negative data\n",
    "    v = np.unique(y)\n",
    "    if len(v) == 2:\n",
    "        if sum(y == v[0]) >= sum(y == v[1]):\n",
    "            X_pos = X[y == v[1],:]\n",
    "            X_neg = X[y == v[0],:]\n",
    "            y_pos = y[y == v[1]]\n",
    "            y_neg = y[y == v[0]]\n",
    "        else:\n",
    "            X_pos = X[y == v[0],:]\n",
    "            X_neg = X[y == v[1],:]\n",
    "            y_pos = y[y == v[0]]\n",
    "            y_neg = y[y == v[1]]\n",
    "    else:\n",
    "        raise Exception(\"Not a binary-class!\")    \n",
    "    n_pos = X_pos.shape[0]\n",
    "    n_neg = X_neg.shape[0]\n",
    "    \n",
    "    # constrain hyper-parameters to their suitable ranges\n",
    "    if n_pos == 0:\n",
    "        raise Exception(\"No positive samples!\")\n",
    "    elif k + 1 > n_pos:\n",
    "        k = n_pos - 1\n",
    "    else:\n",
    "        while k > 1:\n",
    "            while r > 1:\n",
    "                if n_pos + n_pos*k*r >= n_neg:\n",
    "                    r = r - 1\n",
    "                else:\n",
    "                    break   \n",
    "            if n_pos + n_pos*k*r >= n_neg:\n",
    "                k = k - 1\n",
    "            else:\n",
    "                break\n",
    "    \n",
    "    # find k nearest neighbors of each positive sample\n",
    "    kNN_model = kNN(n_neighbors=k+1)\n",
    "    kNN_model.fit(X_pos)\n",
    "    i_neighbor = np.argsort(kNN_model.kneighbors(X_pos, return_distance = False), axis = 1)\n",
    "    i_neighbor = i_neighbor[:,1:]\n",
    "    \n",
    "    # generate new positive samples and corresponding labels\n",
    "    new_pos_mat = []\n",
    "    for i in xrange(n_pos):\n",
    "        now_sample = X_pos[i,:]\n",
    "        for j in xrange(k):\n",
    "                new_sample_mat = get_new_pos(now_sample, X_pos[i_neighbor[i,j],:], r)\n",
    "                new_pos_mat.extend(new_sample_mat)\n",
    "    new_pos_label = y_pos[0] * np.ones((len(new_pos_mat)))\n",
    "    \n",
    "    # combine the newly-generated ones to the original data\n",
    "    X_new = np.concatenate((X_neg, X_pos, new_pos_mat), axis = 0)\n",
    "    y_new = np.concatenate((y_neg, y_pos, new_pos_label), axis = 0)                                 \n",
    "    i_shuffle = np.random.permutation(len(y_new))\n",
    "    X_new = X_new[i_shuffle, :] \n",
    "    y_new = y_new[i_shuffle] \n",
    "    \n",
    "    return X_new, y_new, k, r"
   ]
  },
  {
   "cell_type": "code",
   "execution_count": 285,
   "metadata": {
    "collapsed": true
   },
   "outputs": [],
   "source": [
    "def get_new_pos(point, neighbor, r):\n",
    "    # Function to generate new r samples according to point and one of its neighbor\n",
    "    new_points = []\n",
    "    for i_r in xrange(r):\n",
    "        new_point = point + (point - neighbor) * np.random.rand(point.shape[0])\n",
    "        new_points.extend(np.array([new_point]))\n",
    "    return new_points                                         "
   ]
  },
  {
   "cell_type": "code",
   "execution_count": 286,
   "metadata": {
    "collapsed": false
   },
   "outputs": [
    {
     "name": "stdout",
     "output_type": "stream",
     "text": [
      "[[ 8.98  7.9   8.95  3.96]\n",
      " [ 8.25  3.01  5.94  5.6 ]\n",
      " [ 3.14  8.38  2.1   7.29]\n",
      " ..., \n",
      " [ 8.9   1.76  4.86  3.82]\n",
      " [ 7.08  6.7   2.63  5.02]\n",
      " [ 3.63  8.19  8.8   4.  ]] [ 0.  0.  0. ...,  0.  0.  0.] 3 2\n"
     ]
    }
   ],
   "source": [
    "if __name__ == '__main__':\n",
    "    N_pos = 10\n",
    "    N_neg = 3000\n",
    "    N = N_pos + N_neg\n",
    "    a = np.around(np.random.rand(N,4)*1000)/100\n",
    "    b = np.concatenate((np.zeros(N_neg), np.ones(N_pos)), axis = 0)\n",
    "    i = np.random.permutation(N)\n",
    "    a = a[i,:]\n",
    "    b = b[i]\n",
    "    a_new, b_new, k_new, r_new = run_SMOTE(a, b, 3, 2)\n",
    "    print a_new, b_new, k_new, r_new\n",
    "    "
   ]
  },
  {
   "cell_type": "code",
   "execution_count": null,
   "metadata": {
    "collapsed": true
   },
   "outputs": [],
   "source": []
  }
 ],
 "metadata": {
  "kernelspec": {
   "display_name": "Python 2",
   "language": "python",
   "name": "python2"
  },
  "language_info": {
   "codemirror_mode": {
    "name": "ipython",
    "version": 2
   },
   "file_extension": ".py",
   "mimetype": "text/x-python",
   "name": "python",
   "nbconvert_exporter": "python",
   "pygments_lexer": "ipython2",
   "version": "2.7.13"
  }
 },
 "nbformat": 4,
 "nbformat_minor": 2
}
