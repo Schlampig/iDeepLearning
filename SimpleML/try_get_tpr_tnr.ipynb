{
 "cells": [
  {
   "cell_type": "code",
   "execution_count": 17,
   "metadata": {
    "collapsed": false
   },
   "outputs": [],
   "source": [
    "# Basic models\n",
    "import traceback\n",
    "import numpy as np\n",
    "import pandas as pd\n",
    "\n",
    "# Data operation models\n",
    "from sklearn.model_selection import StratifiedKFold\n",
    "from sklearn import cross_validation\n",
    "from sklearn.model_selection import ParameterGrid\n",
    "\n",
    "# Classifier models\n",
    "from sklearn.svm import SVC\n",
    "\n",
    "# Evaluation models\n",
    "import sklearn.metrics as sm"
   ]
  },
  {
   "cell_type": "code",
   "execution_count": 18,
   "metadata": {
    "collapsed": true
   },
   "outputs": [],
   "source": [
    "def get_tpr_tnr(y, p):\n",
    "    i_pos = np.nonzero(y == max(y))\n",
    "    i_neg = np.nonzero(y == min(y))\n",
    "    tpr = (1 - sm.hamming_loss(y[i_pos], p[i_pos]))*100\n",
    "    tnr = (1 - sm.hamming_loss(y[i_neg], p[i_neg]))*100\n",
    "    return tpr, tnr"
   ]
  },
  {
   "cell_type": "code",
   "execution_count": 19,
   "metadata": {
    "collapsed": false
   },
   "outputs": [
    {
     "name": "stdout",
     "output_type": "stream",
     "text": [
      "71.4285714286 66.6666666667\n"
     ]
    }
   ],
   "source": [
    "if __name__ == '__main__':\n",
    "    y = np.array([0, 1, 1, 0, 0, 1, 1, 1, 1, 1])\n",
    "    p = np.array([0, 0, 1, 1, 0, 1, 1, 0, 1, 1])\n",
    "    tpr, tnr = get_tpr_tnr(y, p)\n",
    "    print tpr, tnr\n",
    "    "
   ]
  },
  {
   "cell_type": "code",
   "execution_count": null,
   "metadata": {
    "collapsed": true
   },
   "outputs": [],
   "source": []
  }
 ],
 "metadata": {
  "kernelspec": {
   "display_name": "Python 2",
   "language": "python",
   "name": "python2"
  },
  "language_info": {
   "codemirror_mode": {
    "name": "ipython",
    "version": 2
   },
   "file_extension": ".py",
   "mimetype": "text/x-python",
   "name": "python",
   "nbconvert_exporter": "python",
   "pygments_lexer": "ipython2",
   "version": "2.7.13"
  }
 },
 "nbformat": 4,
 "nbformat_minor": 2
}
